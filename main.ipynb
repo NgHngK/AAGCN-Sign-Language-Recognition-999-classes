{
 "cells": [
  {
   "cell_type": "code",
   "execution_count": 1,
   "id": "ad406e1a",
   "metadata": {},
   "outputs": [],
   "source": [
    "import numpy as np\n",
    "from sklearn.model_selection import KFold\n",
    "import os\n",
    "import pandas as pd\n",
    "from tqdm import tqdm\n",
    "import torch"
   ]
  },
  {
   "cell_type": "code",
   "execution_count": 2,
   "id": "3dba020e",
   "metadata": {},
   "outputs": [
    {
     "name": "stdout",
     "output_type": "stream",
     "text": [
      "Video names have been written to videos_list.csv\n",
      "Minimum label: 20\n",
      "Labels have been updated and saved.\n",
      "{'6', '5', '4', '2', '9', '3', '0', '7', '8', '1'}\n",
      "Detected 28 actors: ['01', '02', '03', '04', '05', '06', '08', '09', '10', '12', '13', '14', '15', '16', '17', '18', '19', '20', '21', '22', '23', '24', '26', '27', '28', '29', '30', '31']\n",
      "\n",
      "Balanced file written to: videos_list_balanced.csv\n",
      "\n",
      "Count per label (ascending):\n",
      "   3 : 28\n",
      "   4 : 28\n",
      "   5 : 28\n",
      "   6 : 28\n",
      "   7 : 28\n",
      "   8 : 28\n",
      "   9 : 28\n",
      "   0 : 28\n",
      "   1 : 28\n",
      "   2 : 28\n"
     ]
    },
    {
     "name": "stderr",
     "output_type": "stream",
     "text": [
      "Interpolating: 100%|██████████| 280/280 [00:04<00:00, 63.62it/s]    \n",
      "Packing: 100%|██████████| 280/280 [00:03<00:00, 84.73it/s]"
     ]
    },
    {
     "name": "stdout",
     "output_type": "stream",
     "text": [
      "(280, 2, 80, 46, 1)\n",
      "(280,)\n"
     ]
    },
    {
     "name": "stderr",
     "output_type": "stream",
     "text": [
      "\n"
     ]
    }
   ],
   "source": [
    "from video_loading import balance_videos_list\n",
    "from extract_keypoints import KeypointInterpolator\n",
    "\n",
    "folder_path = r'10 class 28 actor (different size)'\n",
    "num_labels = balance_videos_list(folder_path)\n",
    "\n",
    "interpolator = KeypointInterpolator(num_labels, frames=80)\n",
    "interpolator.run()\n",
    "\n",
    "a = np.load(f'vsl{num_labels}_data_preprocess.npy')\n",
    "b = np.load(f'vsl{num_labels}_label_preprocess.npy')\n",
    "\n",
    "print(a.shape)\n",
    "print(b.shape)"
   ]
  },
  {
   "cell_type": "code",
   "execution_count": 3,
   "id": "72eb10d8",
   "metadata": {},
   "outputs": [
    {
     "name": "stdout",
     "output_type": "stream",
     "text": [
      "Number of actors: 28\n",
      "-----------------------------------------------------\n",
      "Fold 1: 20 test samples\n",
      "Fold 2: 20 test samples\n",
      "Fold 3: 20 test samples\n",
      "Fold 4: 20 test samples\n",
      "Fold 5: 20 test samples\n",
      "Fold 6: 20 test samples\n",
      "Fold 7: 20 test samples\n",
      "Fold 8: 20 test samples\n",
      "Fold 9: 10 test samples\n",
      "Fold 10: 10 test samples\n",
      "Fold 11: 10 test samples\n",
      "Fold 12: 10 test samples\n",
      "Fold 13: 10 test samples\n",
      "Fold 14: 10 test samples\n",
      "Fold 15: 10 test samples\n",
      "Fold 16: 10 test samples\n",
      "Fold 17: 10 test samples\n",
      "Fold 18: 10 test samples\n",
      "Fold 19: 10 test samples\n",
      "Fold 20: 10 test samples\n",
      "Processed and saved vsl10 fold 1 successfully.\n",
      "Processed and saved vsl10 fold 2 successfully.\n",
      "Processed and saved vsl10 fold 3 successfully.\n",
      "Processed and saved vsl10 fold 4 successfully.\n",
      "Processed and saved vsl10 fold 5 successfully.\n",
      "Processed and saved vsl10 fold 6 successfully.\n",
      "Processed and saved vsl10 fold 7 successfully.\n",
      "Processed and saved vsl10 fold 8 successfully.\n",
      "Processed and saved vsl10 fold 9 successfully.\n",
      "Processed and saved vsl10 fold 10 successfully.\n",
      "Processed and saved vsl10 fold 11 successfully.\n",
      "Processed and saved vsl10 fold 12 successfully.\n",
      "Processed and saved vsl10 fold 13 successfully.\n",
      "Processed and saved vsl10 fold 14 successfully.\n",
      "Processed and saved vsl10 fold 15 successfully.\n",
      "Processed and saved vsl10 fold 16 successfully.\n",
      "Processed and saved vsl10 fold 17 successfully.\n",
      "Processed and saved vsl10 fold 18 successfully.\n",
      "Processed and saved vsl10 fold 19 successfully.\n",
      "Processed and saved vsl10 fold 20 successfully.\n"
     ]
    }
   ],
   "source": [
    "def k_fold_cross_validation(train_data, keypoint_data, label_data, num_labels, k_folds, destination_folder=\"numpy_files\"):\n",
    "    os.makedirs(destination_folder, exist_ok=True)\n",
    "\n",
    "    actors = train_data['actor'].unique()\n",
    "    print(f\"Number of actors: {len(actors)}\")\n",
    "    print('-----------------------------------------------------')\n",
    "\n",
    "    kf = KFold(n_splits=k_folds, shuffle=True, random_state=42)\n",
    "\n",
    "    actor_to_indices = {actor: train_data.index[train_data['actor'] == actor].tolist() for actor in actors}\n",
    "    folds = [[] for _ in range(k_folds)]\n",
    "\n",
    "    for fold, (train_actors, test_actors) in enumerate(kf.split(actors)):\n",
    "        train_actors = actors[train_actors]\n",
    "        test_actors = actors[test_actors]\n",
    "\n",
    "        for actor in test_actors:\n",
    "            folds[fold].extend(actor_to_indices[actor])\n",
    "\n",
    "        tqdm.write(f\"Fold {fold+1}: {len(folds[fold])} test samples\")\n",
    "\n",
    "    # Iterate over each fold to create train-test splits\n",
    "    for fold in range(k_folds):\n",
    "        test_indices = folds[fold]\n",
    "        train_indices = [idx for f in range(k_folds) if f != fold for idx in folds[f]]\n",
    "\n",
    "        X_train, X_test = keypoint_data[train_indices], keypoint_data[test_indices]\n",
    "        y_train = np.array(label_data[train_indices], dtype=np.int64)\n",
    "        y_test = np.array(label_data[test_indices], dtype=np.int64)\n",
    "\n",
    "        np.save(os.path.join(destination_folder, f'vsl{num_labels}_data_fold{fold+1}_train.npy'), X_train)\n",
    "        np.save(os.path.join(destination_folder, f'vsl{num_labels}_label_fold{fold+1}_train.npy'), y_train)\n",
    "        np.save(os.path.join(destination_folder, f'vsl{num_labels}_data_fold{fold+1}_test.npy'), X_test)\n",
    "        np.save(os.path.join(destination_folder, f'vsl{num_labels}_label_fold{fold+1}_test.npy'), y_test)\n",
    "\n",
    "        tqdm.write(f\"Processed and saved vsl{num_labels} fold {fold+1} successfully.\")\n",
    "\n",
    "if __name__ == \"__main__\":\n",
    "    input_file_path = f\"vsl{num_labels}_interpolated_keypoints.csv\"\n",
    "    train_data = pd.read_csv(input_file_path)\n",
    "\n",
    "    keypoint_data = np.load(f'vsl{num_labels}_data_preprocess.npy')\n",
    "    label_data = np.load(f'vsl{num_labels}_label_preprocess.npy')\n",
    "\n",
    "    num_labels = len(np.unique(label_data))\n",
    "\n",
    "    k_folds = 20\n",
    "    k_fold_cross_validation(train_data, keypoint_data, label_data, num_labels, k_folds)\n"
   ]
  },
  {
   "cell_type": "code",
   "execution_count": null,
   "id": "c8d07b1b",
   "metadata": {},
   "outputs": [
    {
     "name": "stderr",
     "output_type": "stream",
     "text": [
      "c:\\Users\\Hngk\\AppData\\Local\\Programs\\Python\\Python310\\lib\\site-packages\\tqdm\\auto.py:21: TqdmWarning: IProgress not found. Please update jupyter and ipywidgets. See https://ipywidgets.readthedocs.io/en/stable/user_install.html\n",
      "  from .autonotebook import tqdm as notebook_tqdm\n"
     ]
    },
    {
     "name": "stdout",
     "output_type": "stream",
     "text": [
      "Starting fold 1/20\n",
      "[(0, 0), (1, 1), (2, 2), (3, 3), (4, 4), (5, 5), (6, 6), (7, 7), (8, 8), (9, 9), (10, 10), (11, 11), (12, 12), (13, 13), (14, 14), (15, 15), (16, 16), (17, 17), (18, 18), (19, 19), (20, 20), (21, 21), (22, 22), (23, 23), (24, 24), (25, 25), (26, 26), (27, 27), (28, 28), (29, 29), (30, 30), (31, 31), (32, 32), (33, 33), (34, 34), (35, 35), (36, 36), (37, 37), (38, 38), (39, 39), (40, 40), (41, 41), (42, 42), (43, 43), (44, 44), (45, 45), (41, 37), (37, 39), (39, 38), (38, 40), (41, 22), (22, 23), (23, 21), (21, 24), (22, 26), (26, 27), (27, 25), (25, 28), (26, 34), (34, 35), (35, 33), (33, 36), (41, 30), (30, 31), (31, 29), (29, 32), (20, 16), (16, 18), (18, 17), (17, 19), (20, 1), (1, 2), (2, 0), (0, 3), (1, 5), (5, 6), (6, 4), (4, 7), (5, 13), (13, 14), (14, 12), (12, 15), (20, 9), (9, 10), (10, 8), (8, 11), (42, 45), (45, 20), (42, 43), (43, 44), (44, 41)]\n"
     ]
    },
    {
     "name": "stderr",
     "output_type": "stream",
     "text": [
      "GPU available: False, used: False\n",
      "TPU available: False, using: 0 TPU cores\n",
      "HPU available: False, using: 0 HPUs\n",
      "\n",
      "   | Name    | Type               | Params | Mode \n",
      "--------------------------------------------------------\n",
      "0  | data_bn | BatchNorm1d        | 184    | train\n",
      "1  | l1      | TCN_GCN_unit       | 52.4 K | train\n",
      "2  | l2      | TCN_GCN_unit       | 69.9 K | train\n",
      "3  | l3      | TCN_GCN_unit       | 69.9 K | train\n",
      "4  | l4      | TCN_GCN_unit       | 69.9 K | train\n",
      "5  | l5      | TCN_GCN_unit       | 232 K  | train\n",
      "6  | l6      | TCN_GCN_unit       | 252 K  | train\n",
      "7  | l7      | TCN_GCN_unit       | 252 K  | train\n",
      "8  | l8      | TCN_GCN_unit       | 892 K  | train\n",
      "9  | l9      | TCN_GCN_unit       | 973 K  | train\n",
      "10 | l10     | TCN_GCN_unit       | 973 K  | train\n",
      "11 | fc      | Linear             | 2.6 K  | train\n",
      "12 | loss    | CrossEntropyLoss   | 0      | train\n",
      "13 | metric  | MulticlassAccuracy | 0      | train\n",
      "--------------------------------------------------------\n",
      "3.8 M     Trainable params\n",
      "0         Non-trainable params\n",
      "3.8 M     Total params\n",
      "15.365    Total estimated model params size (MB)\n",
      "301       Modules in train mode\n",
      "0         Modules in eval mode\n"
     ]
    },
    {
     "name": "stdout",
     "output_type": "stream",
     "text": [
      "Sanity Checking DataLoader 0:   0%|          | 0/1 [00:00<?, ?it/s]"
     ]
    },
    {
     "name": "stderr",
     "output_type": "stream",
     "text": [
      "c:\\Users\\Hngk\\AppData\\Local\\Programs\\Python\\Python310\\lib\\site-packages\\pytorch_lightning\\trainer\\connectors\\data_connector.py:425: The 'val_dataloader' does not have many workers which may be a bottleneck. Consider increasing the value of the `num_workers` argument` to `num_workers=15` in the `DataLoader` to improve performance.\n"
     ]
    },
    {
     "name": "stdout",
     "output_type": "stream",
     "text": [
      "                                                                           "
     ]
    },
    {
     "name": "stderr",
     "output_type": "stream",
     "text": [
      "c:\\Users\\Hngk\\AppData\\Local\\Programs\\Python\\Python310\\lib\\site-packages\\pytorch_lightning\\trainer\\connectors\\data_connector.py:425: The 'train_dataloader' does not have many workers which may be a bottleneck. Consider increasing the value of the `num_workers` argument` to `num_workers=15` in the `DataLoader` to improve performance.\n",
      "c:\\Users\\Hngk\\AppData\\Local\\Programs\\Python\\Python310\\lib\\site-packages\\pytorch_lightning\\loops\\fit_loop.py:310: The number of training batches (5) is smaller than the logging interval Trainer(log_every_n_steps=50). Set a lower value for log_every_n_steps if you want to see logs for the training epoch.\n"
     ]
    },
    {
     "name": "stdout",
     "output_type": "stream",
     "text": [
      "Epoch 9: 100%|██████████| 5/5 [01:02<00:00,  0.08it/s, v_num=0, train_accuracy_step=1.000, train_loss_step=0.208, valid_accuracy=0.350, valid_loss=6.170, train_accuracy_epoch=0.932, train_loss_epoch=0.155] "
     ]
    },
    {
     "name": "stderr",
     "output_type": "stream",
     "text": [
      "`Trainer.fit` stopped: `max_epochs=10` reached.\n"
     ]
    },
    {
     "name": "stdout",
     "output_type": "stream",
     "text": [
      "Epoch 9: 100%|██████████| 5/5 [01:02<00:00,  0.08it/s, v_num=0, train_accuracy_step=1.000, train_loss_step=0.208, valid_accuracy=0.350, valid_loss=6.170, train_accuracy_epoch=0.932, train_loss_epoch=0.155]\n",
      "Fold 1 finished with validation accuracy: 0.3500\n",
      "Starting fold 2/20\n",
      "[(0, 0), (1, 1), (2, 2), (3, 3), (4, 4), (5, 5), (6, 6), (7, 7), (8, 8), (9, 9), (10, 10), (11, 11), (12, 12), (13, 13), (14, 14), (15, 15), (16, 16), (17, 17), (18, 18), (19, 19), (20, 20), (21, 21), (22, 22), (23, 23), (24, 24), (25, 25), (26, 26), (27, 27), (28, 28), (29, 29), (30, 30), (31, 31), (32, 32), (33, 33), (34, 34), (35, 35), (36, 36), (37, 37), (38, 38), (39, 39), (40, 40), (41, 41), (42, 42), (43, 43), (44, 44), (45, 45), (41, 37), (37, 39), (39, 38), (38, 40), (41, 22), (22, 23), (23, 21), (21, 24), (22, 26), (26, 27), (27, 25), (25, 28), (26, 34), (34, 35), (35, 33), (33, 36), (41, 30), (30, 31), (31, 29), (29, 32), (20, 16), (16, 18), (18, 17), (17, 19), (20, 1), (1, 2), (2, 0), (0, 3), (1, 5), (5, 6), (6, 4), (4, 7), (5, 13), (13, 14), (14, 12), (12, 15), (20, 9), (9, 10), (10, 8), (8, 11), (42, 45), (45, 20), (42, 43), (43, 44), (44, 41)]\n"
     ]
    },
    {
     "name": "stderr",
     "output_type": "stream",
     "text": [
      "GPU available: False, used: False\n",
      "TPU available: False, using: 0 TPU cores\n",
      "HPU available: False, using: 0 HPUs\n",
      "c:\\Users\\Hngk\\AppData\\Local\\Programs\\Python\\Python310\\lib\\site-packages\\pytorch_lightning\\callbacks\\model_checkpoint.py:654: Checkpoint directory D:\\Research\\Words VSL\\Code 999 classes - Copy\\checkpoints exists and is not empty.\n",
      "\n",
      "   | Name    | Type               | Params | Mode \n",
      "--------------------------------------------------------\n",
      "0  | data_bn | BatchNorm1d        | 184    | train\n",
      "1  | l1      | TCN_GCN_unit       | 52.4 K | train\n",
      "2  | l2      | TCN_GCN_unit       | 69.9 K | train\n",
      "3  | l3      | TCN_GCN_unit       | 69.9 K | train\n",
      "4  | l4      | TCN_GCN_unit       | 69.9 K | train\n",
      "5  | l5      | TCN_GCN_unit       | 232 K  | train\n",
      "6  | l6      | TCN_GCN_unit       | 252 K  | train\n",
      "7  | l7      | TCN_GCN_unit       | 252 K  | train\n",
      "8  | l8      | TCN_GCN_unit       | 892 K  | train\n",
      "9  | l9      | TCN_GCN_unit       | 973 K  | train\n",
      "10 | l10     | TCN_GCN_unit       | 973 K  | train\n",
      "11 | fc      | Linear             | 2.6 K  | train\n",
      "12 | loss    | CrossEntropyLoss   | 0      | train\n",
      "13 | metric  | MulticlassAccuracy | 0      | train\n",
      "--------------------------------------------------------\n",
      "3.8 M     Trainable params\n",
      "0         Non-trainable params\n",
      "3.8 M     Total params\n",
      "15.365    Total estimated model params size (MB)\n",
      "301       Modules in train mode\n",
      "0         Modules in eval mode\n"
     ]
    },
    {
     "name": "stdout",
     "output_type": "stream",
     "text": [
      "Epoch 9: 100%|██████████| 5/5 [00:57<00:00,  0.09it/s, v_num=1, train_accuracy_step=0.600, train_loss_step=0.463, valid_accuracy=0.900, valid_loss=0.407, train_accuracy_epoch=0.902, train_loss_epoch=0.336]  "
     ]
    },
    {
     "name": "stderr",
     "output_type": "stream",
     "text": [
      "`Trainer.fit` stopped: `max_epochs=10` reached.\n"
     ]
    },
    {
     "name": "stdout",
     "output_type": "stream",
     "text": [
      "Epoch 9: 100%|██████████| 5/5 [00:57<00:00,  0.09it/s, v_num=1, train_accuracy_step=0.600, train_loss_step=0.463, valid_accuracy=0.900, valid_loss=0.407, train_accuracy_epoch=0.902, train_loss_epoch=0.336]\n",
      "Fold 2 finished with validation accuracy: 0.9000\n",
      "Starting fold 3/20\n",
      "[(0, 0), (1, 1), (2, 2), (3, 3), (4, 4), (5, 5), (6, 6), (7, 7), (8, 8), (9, 9), (10, 10), (11, 11), (12, 12), (13, 13), (14, 14), (15, 15), (16, 16), (17, 17), (18, 18), (19, 19), (20, 20), (21, 21), (22, 22), (23, 23), (24, 24), (25, 25), (26, 26), (27, 27), (28, 28), (29, 29), (30, 30), (31, 31), (32, 32), (33, 33), (34, 34), (35, 35), (36, 36), (37, 37), (38, 38), (39, 39), (40, 40), (41, 41), (42, 42), (43, 43), (44, 44), (45, 45), (41, 37), (37, 39), (39, 38), (38, 40), (41, 22), (22, 23), (23, 21), (21, 24), (22, 26), (26, 27), (27, 25), (25, 28), (26, 34), (34, 35), (35, 33), (33, 36), (41, 30), (30, 31), (31, 29), (29, 32), (20, 16), (16, 18), (18, 17), (17, 19), (20, 1), (1, 2), (2, 0), (0, 3), (1, 5), (5, 6), (6, 4), (4, 7), (5, 13), (13, 14), (14, 12), (12, 15), (20, 9), (9, 10), (10, 8), (8, 11), (42, 45), (45, 20), (42, 43), (43, 44), (44, 41)]\n"
     ]
    },
    {
     "name": "stderr",
     "output_type": "stream",
     "text": [
      "GPU available: False, used: False\n",
      "TPU available: False, using: 0 TPU cores\n",
      "HPU available: False, using: 0 HPUs\n",
      "\n",
      "   | Name    | Type               | Params | Mode \n",
      "--------------------------------------------------------\n",
      "0  | data_bn | BatchNorm1d        | 184    | train\n",
      "1  | l1      | TCN_GCN_unit       | 52.4 K | train\n",
      "2  | l2      | TCN_GCN_unit       | 69.9 K | train\n",
      "3  | l3      | TCN_GCN_unit       | 69.9 K | train\n",
      "4  | l4      | TCN_GCN_unit       | 69.9 K | train\n",
      "5  | l5      | TCN_GCN_unit       | 232 K  | train\n",
      "6  | l6      | TCN_GCN_unit       | 252 K  | train\n",
      "7  | l7      | TCN_GCN_unit       | 252 K  | train\n",
      "8  | l8      | TCN_GCN_unit       | 892 K  | train\n",
      "9  | l9      | TCN_GCN_unit       | 973 K  | train\n",
      "10 | l10     | TCN_GCN_unit       | 973 K  | train\n",
      "11 | fc      | Linear             | 2.6 K  | train\n",
      "12 | loss    | CrossEntropyLoss   | 0      | train\n",
      "13 | metric  | MulticlassAccuracy | 0      | train\n",
      "--------------------------------------------------------\n",
      "3.8 M     Trainable params\n",
      "0         Non-trainable params\n",
      "3.8 M     Total params\n",
      "15.365    Total estimated model params size (MB)\n",
      "301       Modules in train mode\n",
      "0         Modules in eval mode\n"
     ]
    },
    {
     "name": "stdout",
     "output_type": "stream",
     "text": [
      "Epoch 9: 100%|██████████| 5/5 [00:56<00:00,  0.09it/s, v_num=2, train_accuracy_step=1.000, train_loss_step=0.0369, valid_accuracy=0.300, valid_loss=16.00, train_accuracy_epoch=0.918, train_loss_epoch=0.272]"
     ]
    },
    {
     "name": "stderr",
     "output_type": "stream",
     "text": [
      "`Trainer.fit` stopped: `max_epochs=10` reached.\n"
     ]
    },
    {
     "name": "stdout",
     "output_type": "stream",
     "text": [
      "Epoch 9: 100%|██████████| 5/5 [00:56<00:00,  0.09it/s, v_num=2, train_accuracy_step=1.000, train_loss_step=0.0369, valid_accuracy=0.300, valid_loss=16.00, train_accuracy_epoch=0.918, train_loss_epoch=0.272]\n",
      "Fold 3 finished with validation accuracy: 0.3000\n",
      "Starting fold 4/20\n",
      "[(0, 0), (1, 1), (2, 2), (3, 3), (4, 4), (5, 5), (6, 6), (7, 7), (8, 8), (9, 9), (10, 10), (11, 11), (12, 12), (13, 13), (14, 14), (15, 15), (16, 16), (17, 17), (18, 18), (19, 19), (20, 20), (21, 21), (22, 22), (23, 23), (24, 24), (25, 25), (26, 26), (27, 27), (28, 28), (29, 29), (30, 30), (31, 31), (32, 32), (33, 33), (34, 34), (35, 35), (36, 36), (37, 37), (38, 38), (39, 39), (40, 40), (41, 41), (42, 42), (43, 43), (44, 44), (45, 45), (41, 37), (37, 39), (39, 38), (38, 40), (41, 22), (22, 23), (23, 21), (21, 24), (22, 26), (26, 27), (27, 25), (25, 28), (26, 34), (34, 35), (35, 33), (33, 36), (41, 30), (30, 31), (31, 29), (29, 32), (20, 16), (16, 18), (18, 17), (17, 19), (20, 1), (1, 2), (2, 0), (0, 3), (1, 5), (5, 6), (6, 4), (4, 7), (5, 13), (13, 14), (14, 12), (12, 15), (20, 9), (9, 10), (10, 8), (8, 11), (42, 45), (45, 20), (42, 43), (43, 44), (44, 41)]\n"
     ]
    },
    {
     "name": "stderr",
     "output_type": "stream",
     "text": [
      "GPU available: False, used: False\n",
      "TPU available: False, using: 0 TPU cores\n",
      "HPU available: False, using: 0 HPUs\n",
      "\n",
      "   | Name    | Type               | Params | Mode \n",
      "--------------------------------------------------------\n",
      "0  | data_bn | BatchNorm1d        | 184    | train\n",
      "1  | l1      | TCN_GCN_unit       | 52.4 K | train\n",
      "2  | l2      | TCN_GCN_unit       | 69.9 K | train\n",
      "3  | l3      | TCN_GCN_unit       | 69.9 K | train\n",
      "4  | l4      | TCN_GCN_unit       | 69.9 K | train\n",
      "5  | l5      | TCN_GCN_unit       | 232 K  | train\n",
      "6  | l6      | TCN_GCN_unit       | 252 K  | train\n",
      "7  | l7      | TCN_GCN_unit       | 252 K  | train\n",
      "8  | l8      | TCN_GCN_unit       | 892 K  | train\n",
      "9  | l9      | TCN_GCN_unit       | 973 K  | train\n",
      "10 | l10     | TCN_GCN_unit       | 973 K  | train\n",
      "11 | fc      | Linear             | 2.6 K  | train\n",
      "12 | loss    | CrossEntropyLoss   | 0      | train\n",
      "13 | metric  | MulticlassAccuracy | 0      | train\n",
      "--------------------------------------------------------\n",
      "3.8 M     Trainable params\n",
      "0         Non-trainable params\n",
      "3.8 M     Total params\n",
      "15.365    Total estimated model params size (MB)\n",
      "301       Modules in train mode\n",
      "0         Modules in eval mode\n"
     ]
    },
    {
     "name": "stdout",
     "output_type": "stream",
     "text": [
      "Epoch 9: 100%|██████████| 5/5 [00:57<00:00,  0.09it/s, v_num=3, train_accuracy_step=0.400, train_loss_step=4.260, valid_accuracy=0.850, valid_loss=1.040, train_accuracy_epoch=0.942, train_loss_epoch=0.156] "
     ]
    },
    {
     "name": "stderr",
     "output_type": "stream",
     "text": [
      "`Trainer.fit` stopped: `max_epochs=10` reached.\n"
     ]
    },
    {
     "name": "stdout",
     "output_type": "stream",
     "text": [
      "Epoch 9: 100%|██████████| 5/5 [00:57<00:00,  0.09it/s, v_num=3, train_accuracy_step=0.400, train_loss_step=4.260, valid_accuracy=0.850, valid_loss=1.040, train_accuracy_epoch=0.942, train_loss_epoch=0.156]\n",
      "Fold 4 finished with validation accuracy: 0.8500\n",
      "Starting fold 5/20\n",
      "[(0, 0), (1, 1), (2, 2), (3, 3), (4, 4), (5, 5), (6, 6), (7, 7), (8, 8), (9, 9), (10, 10), (11, 11), (12, 12), (13, 13), (14, 14), (15, 15), (16, 16), (17, 17), (18, 18), (19, 19), (20, 20), (21, 21), (22, 22), (23, 23), (24, 24), (25, 25), (26, 26), (27, 27), (28, 28), (29, 29), (30, 30), (31, 31), (32, 32), (33, 33), (34, 34), (35, 35), (36, 36), (37, 37), (38, 38), (39, 39), (40, 40), (41, 41), (42, 42), (43, 43), (44, 44), (45, 45), (41, 37), (37, 39), (39, 38), (38, 40), (41, 22), (22, 23), (23, 21), (21, 24), (22, 26), (26, 27), (27, 25), (25, 28), (26, 34), (34, 35), (35, 33), (33, 36), (41, 30), (30, 31), (31, 29), (29, 32), (20, 16), (16, 18), (18, 17), (17, 19), (20, 1), (1, 2), (2, 0), (0, 3), (1, 5), (5, 6), (6, 4), (4, 7), (5, 13), (13, 14), (14, 12), (12, 15), (20, 9), (9, 10), (10, 8), (8, 11), (42, 45), (45, 20), (42, 43), (43, 44), (44, 41)]\n"
     ]
    },
    {
     "name": "stderr",
     "output_type": "stream",
     "text": [
      "GPU available: False, used: False\n",
      "TPU available: False, using: 0 TPU cores\n",
      "HPU available: False, using: 0 HPUs\n",
      "\n",
      "   | Name    | Type               | Params | Mode \n",
      "--------------------------------------------------------\n",
      "0  | data_bn | BatchNorm1d        | 184    | train\n",
      "1  | l1      | TCN_GCN_unit       | 52.4 K | train\n",
      "2  | l2      | TCN_GCN_unit       | 69.9 K | train\n",
      "3  | l3      | TCN_GCN_unit       | 69.9 K | train\n",
      "4  | l4      | TCN_GCN_unit       | 69.9 K | train\n",
      "5  | l5      | TCN_GCN_unit       | 232 K  | train\n",
      "6  | l6      | TCN_GCN_unit       | 252 K  | train\n",
      "7  | l7      | TCN_GCN_unit       | 252 K  | train\n",
      "8  | l8      | TCN_GCN_unit       | 892 K  | train\n",
      "9  | l9      | TCN_GCN_unit       | 973 K  | train\n",
      "10 | l10     | TCN_GCN_unit       | 973 K  | train\n",
      "11 | fc      | Linear             | 2.6 K  | train\n",
      "12 | loss    | CrossEntropyLoss   | 0      | train\n",
      "13 | metric  | MulticlassAccuracy | 0      | train\n",
      "--------------------------------------------------------\n",
      "3.8 M     Trainable params\n",
      "0         Non-trainable params\n",
      "3.8 M     Total params\n",
      "15.365    Total estimated model params size (MB)\n",
      "301       Modules in train mode\n",
      "0         Modules in eval mode\n"
     ]
    },
    {
     "name": "stdout",
     "output_type": "stream",
     "text": [
      "Epoch 9: 100%|██████████| 5/5 [00:57<00:00,  0.09it/s, v_num=4, train_accuracy_step=1.000, train_loss_step=0.268, valid_accuracy=0.700, valid_loss=2.090, train_accuracy_epoch=0.937, train_loss_epoch=0.267]   "
     ]
    },
    {
     "name": "stderr",
     "output_type": "stream",
     "text": [
      "`Trainer.fit` stopped: `max_epochs=10` reached.\n"
     ]
    },
    {
     "name": "stdout",
     "output_type": "stream",
     "text": [
      "Epoch 9: 100%|██████████| 5/5 [00:57<00:00,  0.09it/s, v_num=4, train_accuracy_step=1.000, train_loss_step=0.268, valid_accuracy=0.700, valid_loss=2.090, train_accuracy_epoch=0.937, train_loss_epoch=0.267]\n",
      "Fold 5 finished with validation accuracy: 0.7000\n",
      "Starting fold 6/20\n",
      "[(0, 0), (1, 1), (2, 2), (3, 3), (4, 4), (5, 5), (6, 6), (7, 7), (8, 8), (9, 9), (10, 10), (11, 11), (12, 12), (13, 13), (14, 14), (15, 15), (16, 16), (17, 17), (18, 18), (19, 19), (20, 20), (21, 21), (22, 22), (23, 23), (24, 24), (25, 25), (26, 26), (27, 27), (28, 28), (29, 29), (30, 30), (31, 31), (32, 32), (33, 33), (34, 34), (35, 35), (36, 36), (37, 37), (38, 38), (39, 39), (40, 40), (41, 41), (42, 42), (43, 43), (44, 44), (45, 45), (41, 37), (37, 39), (39, 38), (38, 40), (41, 22), (22, 23), (23, 21), (21, 24), (22, 26), (26, 27), (27, 25), (25, 28), (26, 34), (34, 35), (35, 33), (33, 36), (41, 30), (30, 31), (31, 29), (29, 32), (20, 16), (16, 18), (18, 17), (17, 19), (20, 1), (1, 2), (2, 0), (0, 3), (1, 5), (5, 6), (6, 4), (4, 7), (5, 13), (13, 14), (14, 12), (12, 15), (20, 9), (9, 10), (10, 8), (8, 11), (42, 45), (45, 20), (42, 43), (43, 44), (44, 41)]\n"
     ]
    },
    {
     "name": "stderr",
     "output_type": "stream",
     "text": [
      "GPU available: False, used: False\n",
      "TPU available: False, using: 0 TPU cores\n",
      "HPU available: False, using: 0 HPUs\n",
      "\n",
      "   | Name    | Type               | Params | Mode \n",
      "--------------------------------------------------------\n",
      "0  | data_bn | BatchNorm1d        | 184    | train\n",
      "1  | l1      | TCN_GCN_unit       | 52.4 K | train\n",
      "2  | l2      | TCN_GCN_unit       | 69.9 K | train\n",
      "3  | l3      | TCN_GCN_unit       | 69.9 K | train\n",
      "4  | l4      | TCN_GCN_unit       | 69.9 K | train\n",
      "5  | l5      | TCN_GCN_unit       | 232 K  | train\n",
      "6  | l6      | TCN_GCN_unit       | 252 K  | train\n",
      "7  | l7      | TCN_GCN_unit       | 252 K  | train\n",
      "8  | l8      | TCN_GCN_unit       | 892 K  | train\n",
      "9  | l9      | TCN_GCN_unit       | 973 K  | train\n",
      "10 | l10     | TCN_GCN_unit       | 973 K  | train\n",
      "11 | fc      | Linear             | 2.6 K  | train\n",
      "12 | loss    | CrossEntropyLoss   | 0      | train\n",
      "13 | metric  | MulticlassAccuracy | 0      | train\n",
      "--------------------------------------------------------\n",
      "3.8 M     Trainable params\n",
      "0         Non-trainable params\n",
      "3.8 M     Total params\n",
      "15.365    Total estimated model params size (MB)\n",
      "301       Modules in train mode\n",
      "0         Modules in eval mode\n"
     ]
    },
    {
     "name": "stdout",
     "output_type": "stream",
     "text": [
      "Epoch 9: 100%|██████████| 5/5 [00:56<00:00,  0.09it/s, v_num=5, train_accuracy_step=0.400, train_loss_step=1.360, valid_accuracy=0.650, valid_loss=3.450, train_accuracy_epoch=0.877, train_loss_epoch=0.467] "
     ]
    },
    {
     "name": "stderr",
     "output_type": "stream",
     "text": [
      "`Trainer.fit` stopped: `max_epochs=10` reached.\n"
     ]
    },
    {
     "name": "stdout",
     "output_type": "stream",
     "text": [
      "Epoch 9: 100%|██████████| 5/5 [00:56<00:00,  0.09it/s, v_num=5, train_accuracy_step=0.400, train_loss_step=1.360, valid_accuracy=0.650, valid_loss=3.450, train_accuracy_epoch=0.877, train_loss_epoch=0.467]\n",
      "Fold 6 finished with validation accuracy: 0.6500\n",
      "Starting fold 7/20\n",
      "[(0, 0), (1, 1), (2, 2), (3, 3), (4, 4), (5, 5), (6, 6), (7, 7), (8, 8), (9, 9), (10, 10), (11, 11), (12, 12), (13, 13), (14, 14), (15, 15), (16, 16), (17, 17), (18, 18), (19, 19), (20, 20), (21, 21), (22, 22), (23, 23), (24, 24), (25, 25), (26, 26), (27, 27), (28, 28), (29, 29), (30, 30), (31, 31), (32, 32), (33, 33), (34, 34), (35, 35), (36, 36), (37, 37), (38, 38), (39, 39), (40, 40), (41, 41), (42, 42), (43, 43), (44, 44), (45, 45), (41, 37), (37, 39), (39, 38), (38, 40), (41, 22), (22, 23), (23, 21), (21, 24), (22, 26), (26, 27), (27, 25), (25, 28), (26, 34), (34, 35), (35, 33), (33, 36), (41, 30), (30, 31), (31, 29), (29, 32), (20, 16), (16, 18), (18, 17), (17, 19), (20, 1), (1, 2), (2, 0), (0, 3), (1, 5), (5, 6), (6, 4), (4, 7), (5, 13), (13, 14), (14, 12), (12, 15), (20, 9), (9, 10), (10, 8), (8, 11), (42, 45), (45, 20), (42, 43), (43, 44), (44, 41)]\n"
     ]
    },
    {
     "name": "stderr",
     "output_type": "stream",
     "text": [
      "GPU available: False, used: False\n",
      "TPU available: False, using: 0 TPU cores\n",
      "HPU available: False, using: 0 HPUs\n",
      "\n",
      "   | Name    | Type               | Params | Mode \n",
      "--------------------------------------------------------\n",
      "0  | data_bn | BatchNorm1d        | 184    | train\n",
      "1  | l1      | TCN_GCN_unit       | 52.4 K | train\n",
      "2  | l2      | TCN_GCN_unit       | 69.9 K | train\n",
      "3  | l3      | TCN_GCN_unit       | 69.9 K | train\n",
      "4  | l4      | TCN_GCN_unit       | 69.9 K | train\n",
      "5  | l5      | TCN_GCN_unit       | 232 K  | train\n",
      "6  | l6      | TCN_GCN_unit       | 252 K  | train\n",
      "7  | l7      | TCN_GCN_unit       | 252 K  | train\n",
      "8  | l8      | TCN_GCN_unit       | 892 K  | train\n",
      "9  | l9      | TCN_GCN_unit       | 973 K  | train\n",
      "10 | l10     | TCN_GCN_unit       | 973 K  | train\n",
      "11 | fc      | Linear             | 2.6 K  | train\n",
      "12 | loss    | CrossEntropyLoss   | 0      | train\n",
      "13 | metric  | MulticlassAccuracy | 0      | train\n",
      "--------------------------------------------------------\n",
      "3.8 M     Trainable params\n",
      "0         Non-trainable params\n",
      "3.8 M     Total params\n",
      "15.365    Total estimated model params size (MB)\n",
      "301       Modules in train mode\n",
      "0         Modules in eval mode\n"
     ]
    },
    {
     "name": "stdout",
     "output_type": "stream",
     "text": [
      "Epoch 9: 100%|██████████| 5/5 [00:57<00:00,  0.09it/s, v_num=6, train_accuracy_step=0.600, train_loss_step=1.010, valid_accuracy=0.750, valid_loss=0.836, train_accuracy_epoch=0.954, train_loss_epoch=0.165]"
     ]
    },
    {
     "name": "stderr",
     "output_type": "stream",
     "text": [
      "`Trainer.fit` stopped: `max_epochs=10` reached.\n"
     ]
    },
    {
     "name": "stdout",
     "output_type": "stream",
     "text": [
      "Epoch 9: 100%|██████████| 5/5 [00:57<00:00,  0.09it/s, v_num=6, train_accuracy_step=0.600, train_loss_step=1.010, valid_accuracy=0.750, valid_loss=0.836, train_accuracy_epoch=0.954, train_loss_epoch=0.165]\n",
      "Fold 7 finished with validation accuracy: 0.7500\n",
      "Starting fold 8/20\n",
      "[(0, 0), (1, 1), (2, 2), (3, 3), (4, 4), (5, 5), (6, 6), (7, 7), (8, 8), (9, 9), (10, 10), (11, 11), (12, 12), (13, 13), (14, 14), (15, 15), (16, 16), (17, 17), (18, 18), (19, 19), (20, 20), (21, 21), (22, 22), (23, 23), (24, 24), (25, 25), (26, 26), (27, 27), (28, 28), (29, 29), (30, 30), (31, 31), (32, 32), (33, 33), (34, 34), (35, 35), (36, 36), (37, 37), (38, 38), (39, 39), (40, 40), (41, 41), (42, 42), (43, 43), (44, 44), (45, 45), (41, 37), (37, 39), (39, 38), (38, 40), (41, 22), (22, 23), (23, 21), (21, 24), (22, 26), (26, 27), (27, 25), (25, 28), (26, 34), (34, 35), (35, 33), (33, 36), (41, 30), (30, 31), (31, 29), (29, 32), (20, 16), (16, 18), (18, 17), (17, 19), (20, 1), (1, 2), (2, 0), (0, 3), (1, 5), (5, 6), (6, 4), (4, 7), (5, 13), (13, 14), (14, 12), (12, 15), (20, 9), (9, 10), (10, 8), (8, 11), (42, 45), (45, 20), (42, 43), (43, 44), (44, 41)]\n"
     ]
    },
    {
     "name": "stderr",
     "output_type": "stream",
     "text": [
      "GPU available: False, used: False\n",
      "TPU available: False, using: 0 TPU cores\n",
      "HPU available: False, using: 0 HPUs\n",
      "\n",
      "   | Name    | Type               | Params | Mode \n",
      "--------------------------------------------------------\n",
      "0  | data_bn | BatchNorm1d        | 184    | train\n",
      "1  | l1      | TCN_GCN_unit       | 52.4 K | train\n",
      "2  | l2      | TCN_GCN_unit       | 69.9 K | train\n",
      "3  | l3      | TCN_GCN_unit       | 69.9 K | train\n",
      "4  | l4      | TCN_GCN_unit       | 69.9 K | train\n",
      "5  | l5      | TCN_GCN_unit       | 232 K  | train\n",
      "6  | l6      | TCN_GCN_unit       | 252 K  | train\n",
      "7  | l7      | TCN_GCN_unit       | 252 K  | train\n",
      "8  | l8      | TCN_GCN_unit       | 892 K  | train\n",
      "9  | l9      | TCN_GCN_unit       | 973 K  | train\n",
      "10 | l10     | TCN_GCN_unit       | 973 K  | train\n",
      "11 | fc      | Linear             | 2.6 K  | train\n",
      "12 | loss    | CrossEntropyLoss   | 0      | train\n",
      "13 | metric  | MulticlassAccuracy | 0      | train\n",
      "--------------------------------------------------------\n",
      "3.8 M     Trainable params\n",
      "0         Non-trainable params\n",
      "3.8 M     Total params\n",
      "15.365    Total estimated model params size (MB)\n",
      "301       Modules in train mode\n",
      "0         Modules in eval mode\n"
     ]
    },
    {
     "name": "stdout",
     "output_type": "stream",
     "text": [
      "Epoch 1:  60%|██████    | 3/5 [00:41<00:27,  0.07it/s, v_num=7, train_accuracy_step=0.868, train_loss_step=0.690, valid_accuracy=0.150, valid_loss=38.20, train_accuracy_epoch=0.414, train_loss_epoch=6.020]"
     ]
    }
   ],
   "source": [
    "from torch.utils.data import DataLoader\n",
    "import pytorch_lightning as pl\n",
    "from pytorch_lightning.callbacks import ModelCheckpoint\n",
    "from feeder import FeederINCLUDE\n",
    "from aagcn import Model\n",
    "from augumentation import Rotate, Compose\n",
    "from pytorch_lightning.utilities.migration import pl_legacy_patch\n",
    "\n",
    "os.environ[\"CUDA_VISIBLE_DEVICES\"] = \"0\"\n",
    "\n",
    "if __name__ == '__main__':\n",
    "    k_folds = 20\n",
    "    config = {'batch_size': 64, 'learning_rate': 0.0137296, 'weight_decay': 0.000150403}\n",
    "\n",
    "    device = \"cuda\" if torch.cuda.is_available() else \"cpu\"\n",
    "\n",
    "    best_accuracy = 0.0\n",
    "    best_fold = -1\n",
    "\n",
    "    for fold in range(k_folds):\n",
    "        print(f\"Starting fold {fold + 1}/{k_folds}\")\n",
    "        train_data_path = os.path.join(\"numpy_files\", f'vsl{num_labels}_data_fold{fold+1}_train.npy')\n",
    "        train_label_path = os.path.join(\"numpy_files\", f'vsl{num_labels}_label_fold{fold+1}_train.npy')\n",
    "        val_data_path = os.path.join(\"numpy_files\", f'vsl{num_labels}_data_fold{fold+1}_test.npy')\n",
    "        val_label_path = os.path.join(\"numpy_files\", f'vsl{num_labels}_label_fold{fold+1}_test.npy')\n",
    "\n",
    "        transforms = Compose([\n",
    "            Rotate(15, 80, 25, (0.5, 0.5))\n",
    "        ])\n",
    "\n",
    "        train_dataset = FeederINCLUDE(\n",
    "            data_path=train_data_path,\n",
    "            label_path=train_label_path,\n",
    "            transform=transforms\n",
    "        )\n",
    "        val_dataset = FeederINCLUDE(\n",
    "            data_path=val_data_path,\n",
    "            label_path=val_label_path\n",
    "        )\n",
    "\n",
    "        train_dataloader = DataLoader(train_dataset, batch_size=config['batch_size'], shuffle=True)\n",
    "        val_dataloader = DataLoader(val_dataset, batch_size=config['batch_size'], shuffle=False)\n",
    "\n",
    "        model = Model(num_class=num_labels, num_point=46, num_person=1, in_channels=2,\n",
    "                      graph_args={\"layout\": \"mediapipe_two_hand\", \"strategy\": \"spatial\"},\n",
    "                      learning_rate=config['learning_rate'], weight_decay=config['weight_decay'])\n",
    "\n",
    "        # Path pre-trained checkpoint file\n",
    "        checkpoint_path = \"autsl_vsl199-aagcn-fold=7-v1.ckpt\"\n",
    "\n",
    "        with pl_legacy_patch():\n",
    "            checkpoint = torch.load(checkpoint_path, map_location=device)\n",
    "\n",
    "        state_dict = checkpoint['state_dict']\n",
    "        filtered_state_dict = {k: v for k, v in state_dict.items() if not k.startswith('fc.')}\n",
    "        model.load_state_dict(filtered_state_dict, strict=False)\n",
    "\n",
    "        callbacks = [\n",
    "            ModelCheckpoint(\n",
    "                dirpath=\"checkpoints\",\n",
    "                monitor=\"valid_accuracy\",\n",
    "                mode=\"max\",\n",
    "                every_n_epochs=1,\n",
    "                filename=f'autsl_vsl{num_labels}-aagcn-fold={fold+1}'\n",
    "            ),\n",
    "        ]\n",
    "\n",
    "        trainer = pl.Trainer(max_epochs=10, accelerator=\"auto\", check_val_every_n_epoch=1,\n",
    "                             devices=1, callbacks=callbacks)\n",
    "\n",
    "        trainer.fit(model, train_dataloader, val_dataloader)\n",
    "        val_accuracy = trainer.callback_metrics['valid_accuracy'].item()\n",
    "        print(f\"Fold {fold + 1} finished with validation accuracy: {val_accuracy:.4f}\")\n",
    "\n",
    "        if val_accuracy > best_accuracy:\n",
    "            best_accuracy = val_accuracy\n",
    "            best_fold = fold + 1\n",
    "\n",
    "    print(f\"The highest validation accuracy achieved is {best_accuracy:.4f} from fold {best_fold}.\")\n"
   ]
  },
  {
   "cell_type": "code",
   "execution_count": null,
   "id": "ae352300",
   "metadata": {},
   "outputs": [],
   "source": [
    "print(f\"The highest validation accuracy achieved of autsl vsl{num_labels} is {best_accuracy:.4f} from fold {best_fold}.\")"
   ]
  }
 ],
 "metadata": {
  "kernelspec": {
   "display_name": "Python 3",
   "language": "python",
   "name": "python3"
  },
  "language_info": {
   "codemirror_mode": {
    "name": "ipython",
    "version": 3
   },
   "file_extension": ".py",
   "mimetype": "text/x-python",
   "name": "python",
   "nbconvert_exporter": "python",
   "pygments_lexer": "ipython3",
   "version": "3.10.11"
  }
 },
 "nbformat": 4,
 "nbformat_minor": 5
}
